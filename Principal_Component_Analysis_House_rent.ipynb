{
  "nbformat": 4,
  "nbformat_minor": 0,
  "metadata": {
    "colab": {
      "name": "Principal Component Analysis- House rent",
      "provenance": [],
      "collapsed_sections": [],
      "mount_file_id": "1QeT47LB1GK4Abk0Yp_ink5nCMAA47fYV",
      "authorship_tag": "ABX9TyPiaCFPsoOE5bLGbIranos4",
      "include_colab_link": true
    },
    "kernelspec": {
      "name": "python3",
      "display_name": "Python 3"
    },
    "language_info": {
      "name": "python"
    }
  },
  "cells": [
    {
      "cell_type": "markdown",
      "metadata": {
        "id": "view-in-github",
        "colab_type": "text"
      },
      "source": [
        "<a href=\"https://colab.research.google.com/github/powersurge8891/Dimension-Reduction/blob/main/Principal_Component_Analysis_House_rent.ipynb\" target=\"_parent\"><img src=\"https://colab.research.google.com/assets/colab-badge.svg\" alt=\"Open In Colab\"/></a>"
      ]
    },
    {
      "cell_type": "markdown",
      "metadata": {
        "id": "CND33v8yRIR4"
      },
      "source": [
        "#Data and libraries"
      ]
    },
    {
      "cell_type": "code",
      "metadata": {
        "id": "XQuvh51jQ3Sp",
        "colab": {
          "base_uri": "https://localhost:8080/"
        },
        "outputId": "1e7ebad8-b501-4eb4-b11a-099c85ea5f78"
      },
      "source": [
        "%cd /content/drive/MyDrive/Data Mining for Business in Python/5. Dimension Reduction"
      ],
      "execution_count": 1,
      "outputs": [
        {
          "output_type": "stream",
          "name": "stdout",
          "text": [
            "/content/drive/MyDrive/Data Mining for Business in Python/5. Dimension Reduction\n"
          ]
        }
      ]
    },
    {
      "cell_type": "code",
      "metadata": {
        "id": "ee8C5wc1RNkm"
      },
      "source": [
        "import pandas as pd\n",
        "import numpy as np\n",
        "import matplotlib.pyplot as plt\n",
        "from sklearn.decomposition import PCA"
      ],
      "execution_count": 2,
      "outputs": []
    },
    {
      "cell_type": "code",
      "metadata": {
        "id": "p16sV0DtRNsW"
      },
      "source": [
        "data=pd.read_csv('houses_to_rent.csv')"
      ],
      "execution_count": 3,
      "outputs": []
    },
    {
      "cell_type": "markdown",
      "metadata": {
        "id": "GTcbC-baSKjH"
      },
      "source": [
        "#Exploring data"
      ]
    },
    {
      "cell_type": "code",
      "metadata": {
        "id": "1MJFsJRoSpnM"
      },
      "source": [
        "copy_data=data.copy()"
      ],
      "execution_count": 4,
      "outputs": []
    },
    {
      "cell_type": "code",
      "metadata": {
        "colab": {
          "base_uri": "https://localhost:8080/",
          "height": 206
        },
        "id": "a6Zru-MZRNvu",
        "outputId": "9b4a657b-4f42-4c56-91f9-306c966c8583"
      },
      "source": [
        "data.head()"
      ],
      "execution_count": 5,
      "outputs": [
        {
          "output_type": "execute_result",
          "data": {
            "text/html": [
              "<div>\n",
              "<style scoped>\n",
              "    .dataframe tbody tr th:only-of-type {\n",
              "        vertical-align: middle;\n",
              "    }\n",
              "\n",
              "    .dataframe tbody tr th {\n",
              "        vertical-align: top;\n",
              "    }\n",
              "\n",
              "    .dataframe thead th {\n",
              "        text-align: right;\n",
              "    }\n",
              "</style>\n",
              "<table border=\"1\" class=\"dataframe\">\n",
              "  <thead>\n",
              "    <tr style=\"text-align: right;\">\n",
              "      <th></th>\n",
              "      <th>city</th>\n",
              "      <th>area</th>\n",
              "      <th>rooms</th>\n",
              "      <th>bathroom</th>\n",
              "      <th>parking spaces</th>\n",
              "      <th>floor</th>\n",
              "      <th>animal</th>\n",
              "      <th>furniture</th>\n",
              "      <th>rent amount</th>\n",
              "    </tr>\n",
              "  </thead>\n",
              "  <tbody>\n",
              "    <tr>\n",
              "      <th>0</th>\n",
              "      <td>1</td>\n",
              "      <td>240</td>\n",
              "      <td>3</td>\n",
              "      <td>3</td>\n",
              "      <td>4</td>\n",
              "      <td>0</td>\n",
              "      <td>acept</td>\n",
              "      <td>furnished</td>\n",
              "      <td>8000</td>\n",
              "    </tr>\n",
              "    <tr>\n",
              "      <th>1</th>\n",
              "      <td>0</td>\n",
              "      <td>64</td>\n",
              "      <td>2</td>\n",
              "      <td>1</td>\n",
              "      <td>1</td>\n",
              "      <td>10</td>\n",
              "      <td>acept</td>\n",
              "      <td>not furnished</td>\n",
              "      <td>820</td>\n",
              "    </tr>\n",
              "    <tr>\n",
              "      <th>2</th>\n",
              "      <td>1</td>\n",
              "      <td>443</td>\n",
              "      <td>5</td>\n",
              "      <td>5</td>\n",
              "      <td>4</td>\n",
              "      <td>3</td>\n",
              "      <td>acept</td>\n",
              "      <td>furnished</td>\n",
              "      <td>7000</td>\n",
              "    </tr>\n",
              "    <tr>\n",
              "      <th>3</th>\n",
              "      <td>1</td>\n",
              "      <td>73</td>\n",
              "      <td>2</td>\n",
              "      <td>2</td>\n",
              "      <td>1</td>\n",
              "      <td>12</td>\n",
              "      <td>acept</td>\n",
              "      <td>not furnished</td>\n",
              "      <td>1250</td>\n",
              "    </tr>\n",
              "    <tr>\n",
              "      <th>4</th>\n",
              "      <td>1</td>\n",
              "      <td>19</td>\n",
              "      <td>1</td>\n",
              "      <td>1</td>\n",
              "      <td>0</td>\n",
              "      <td>0</td>\n",
              "      <td>not acept</td>\n",
              "      <td>not furnished</td>\n",
              "      <td>1200</td>\n",
              "    </tr>\n",
              "  </tbody>\n",
              "</table>\n",
              "</div>"
            ],
            "text/plain": [
              "   city  area  rooms  bathroom  ...  floor     animal      furniture rent amount\n",
              "0     1   240      3         3  ...      0      acept      furnished        8000\n",
              "1     0    64      2         1  ...     10      acept  not furnished         820\n",
              "2     1   443      5         5  ...      3      acept      furnished        7000\n",
              "3     1    73      2         2  ...     12      acept  not furnished        1250\n",
              "4     1    19      1         1  ...      0  not acept  not furnished        1200\n",
              "\n",
              "[5 rows x 9 columns]"
            ]
          },
          "metadata": {},
          "execution_count": 5
        }
      ]
    },
    {
      "cell_type": "code",
      "metadata": {
        "colab": {
          "base_uri": "https://localhost:8080/"
        },
        "id": "koA-sYHdRNyd",
        "outputId": "611beae3-6178-4587-aaf0-bbd7712e6ebc"
      },
      "source": [
        "np.unique(data.animal)"
      ],
      "execution_count": 6,
      "outputs": [
        {
          "output_type": "execute_result",
          "data": {
            "text/plain": [
              "array(['acept', 'not acept'], dtype=object)"
            ]
          },
          "metadata": {},
          "execution_count": 6
        }
      ]
    },
    {
      "cell_type": "code",
      "metadata": {
        "colab": {
          "base_uri": "https://localhost:8080/"
        },
        "id": "2to12zHBRN1X",
        "outputId": "515aaada-130e-404b-abe3-f51e204163e9"
      },
      "source": [
        "np.unique(data.furniture)"
      ],
      "execution_count": 7,
      "outputs": [
        {
          "output_type": "execute_result",
          "data": {
            "text/plain": [
              "array(['furnished', 'not furnished'], dtype=object)"
            ]
          },
          "metadata": {},
          "execution_count": 7
        }
      ]
    },
    {
      "cell_type": "code",
      "metadata": {
        "id": "LA6F5VdKSziK"
      },
      "source": [
        "data.animal= pd.get_dummies(data.animal, drop_first=True)"
      ],
      "execution_count": 8,
      "outputs": []
    },
    {
      "cell_type": "code",
      "metadata": {
        "id": "cDB8hJRsSzn5"
      },
      "source": [
        "data.furniture= pd.get_dummies(data.furniture, drop_first=True)"
      ],
      "execution_count": 9,
      "outputs": []
    },
    {
      "cell_type": "code",
      "metadata": {
        "colab": {
          "base_uri": "https://localhost:8080/",
          "height": 206
        },
        "id": "mN0TxDiOSzq7",
        "outputId": "86153239-b130-4cb8-d052-039896468e6d"
      },
      "source": [
        "data.head()"
      ],
      "execution_count": 10,
      "outputs": [
        {
          "output_type": "execute_result",
          "data": {
            "text/html": [
              "<div>\n",
              "<style scoped>\n",
              "    .dataframe tbody tr th:only-of-type {\n",
              "        vertical-align: middle;\n",
              "    }\n",
              "\n",
              "    .dataframe tbody tr th {\n",
              "        vertical-align: top;\n",
              "    }\n",
              "\n",
              "    .dataframe thead th {\n",
              "        text-align: right;\n",
              "    }\n",
              "</style>\n",
              "<table border=\"1\" class=\"dataframe\">\n",
              "  <thead>\n",
              "    <tr style=\"text-align: right;\">\n",
              "      <th></th>\n",
              "      <th>city</th>\n",
              "      <th>area</th>\n",
              "      <th>rooms</th>\n",
              "      <th>bathroom</th>\n",
              "      <th>parking spaces</th>\n",
              "      <th>floor</th>\n",
              "      <th>animal</th>\n",
              "      <th>furniture</th>\n",
              "      <th>rent amount</th>\n",
              "    </tr>\n",
              "  </thead>\n",
              "  <tbody>\n",
              "    <tr>\n",
              "      <th>0</th>\n",
              "      <td>1</td>\n",
              "      <td>240</td>\n",
              "      <td>3</td>\n",
              "      <td>3</td>\n",
              "      <td>4</td>\n",
              "      <td>0</td>\n",
              "      <td>0</td>\n",
              "      <td>0</td>\n",
              "      <td>8000</td>\n",
              "    </tr>\n",
              "    <tr>\n",
              "      <th>1</th>\n",
              "      <td>0</td>\n",
              "      <td>64</td>\n",
              "      <td>2</td>\n",
              "      <td>1</td>\n",
              "      <td>1</td>\n",
              "      <td>10</td>\n",
              "      <td>0</td>\n",
              "      <td>1</td>\n",
              "      <td>820</td>\n",
              "    </tr>\n",
              "    <tr>\n",
              "      <th>2</th>\n",
              "      <td>1</td>\n",
              "      <td>443</td>\n",
              "      <td>5</td>\n",
              "      <td>5</td>\n",
              "      <td>4</td>\n",
              "      <td>3</td>\n",
              "      <td>0</td>\n",
              "      <td>0</td>\n",
              "      <td>7000</td>\n",
              "    </tr>\n",
              "    <tr>\n",
              "      <th>3</th>\n",
              "      <td>1</td>\n",
              "      <td>73</td>\n",
              "      <td>2</td>\n",
              "      <td>2</td>\n",
              "      <td>1</td>\n",
              "      <td>12</td>\n",
              "      <td>0</td>\n",
              "      <td>1</td>\n",
              "      <td>1250</td>\n",
              "    </tr>\n",
              "    <tr>\n",
              "      <th>4</th>\n",
              "      <td>1</td>\n",
              "      <td>19</td>\n",
              "      <td>1</td>\n",
              "      <td>1</td>\n",
              "      <td>0</td>\n",
              "      <td>0</td>\n",
              "      <td>1</td>\n",
              "      <td>1</td>\n",
              "      <td>1200</td>\n",
              "    </tr>\n",
              "  </tbody>\n",
              "</table>\n",
              "</div>"
            ],
            "text/plain": [
              "   city  area  rooms  bathroom  ...  floor  animal  furniture  rent amount\n",
              "0     1   240      3         3  ...      0       0          0         8000\n",
              "1     0    64      2         1  ...     10       0          1          820\n",
              "2     1   443      5         5  ...      3       0          0         7000\n",
              "3     1    73      2         2  ...     12       0          1         1250\n",
              "4     1    19      1         1  ...      0       1          1         1200\n",
              "\n",
              "[5 rows x 9 columns]"
            ]
          },
          "metadata": {},
          "execution_count": 10
        }
      ]
    },
    {
      "cell_type": "code",
      "metadata": {
        "colab": {
          "base_uri": "https://localhost:8080/"
        },
        "id": "WnU2Hn6eSzt5",
        "outputId": "18e8712e-3d6c-4e5a-f87e-414b574623ce"
      },
      "source": [
        "data.isna().sum()"
      ],
      "execution_count": 11,
      "outputs": [
        {
          "output_type": "execute_result",
          "data": {
            "text/plain": [
              "city              0\n",
              "area              0\n",
              "rooms             0\n",
              "bathroom          0\n",
              "parking spaces    0\n",
              "floor             0\n",
              "animal            0\n",
              "furniture         0\n",
              "rent amount       0\n",
              "dtype: int64"
            ]
          },
          "metadata": {},
          "execution_count": 11
        }
      ]
    },
    {
      "cell_type": "markdown",
      "metadata": {
        "id": "G4_yNpAIUlPn"
      },
      "source": [
        "#Correlation Matrix"
      ]
    },
    {
      "cell_type": "code",
      "metadata": {
        "id": "Xj1fkUvcTSpM"
      },
      "source": [
        "X= data.drop(columns='rent amount')"
      ],
      "execution_count": 12,
      "outputs": []
    },
    {
      "cell_type": "code",
      "metadata": {
        "colab": {
          "base_uri": "https://localhost:8080/",
          "height": 352
        },
        "id": "90kgZWMHTSsR",
        "outputId": "d08e95bc-1707-4c1b-ec4d-8efb746baa53"
      },
      "source": [
        "import seaborn as sns\n",
        "sns.heatmap(X.corr(),fmt='.1g',\n",
        "            annot=True,\n",
        "            center=0,\n",
        "            cmap='coolwarm',\n",
        "            linewidths=1,\n",
        "            linecolor='black'\n",
        ")\n",
        "\n",
        "#there is high correlation among our predictors, which is not good (which means that some predictors can represent others\n",
        "# without having all of them there.)"
      ],
      "execution_count": 13,
      "outputs": [
        {
          "output_type": "execute_result",
          "data": {
            "text/plain": [
              "<matplotlib.axes._subplots.AxesSubplot at 0x7fb98c7c2910>"
            ]
          },
          "metadata": {},
          "execution_count": 13
        },
        {
          "output_type": "display_data",
          "data": {
            "image/png": "[encoded data removed]",
            "text/plain": [
              "<Figure size 432x288 with 2 Axes>"
            ]
          },
          "metadata": {
            "needs_background": "light"
          }
        }
      ]
    },
    {
      "cell_type": "markdown",
      "metadata": {
        "id": "ry1xLvP0YMSI"
      },
      "source": [
        "#Standardizing data"
      ]
    },
    {
      "cell_type": "code",
      "metadata": {
        "id": "_gBFBoDSTSvZ"
      },
      "source": [
        "from sklearn.preprocessing import MinMaxScaler\n",
        "scaler= MinMaxScaler()\n",
        "X_scaled=scaler.fit_transform(X)"
      ],
      "execution_count": 14,
      "outputs": []
    },
    {
      "cell_type": "code",
      "metadata": {
        "colab": {
          "base_uri": "https://localhost:8080/",
          "height": 206
        },
        "id": "W9w1DqJxZGCD",
        "outputId": "3cf067dc-71c2-487f-a11d-0c3d8f5cf862"
      },
      "source": [
        "X_scaled= pd.DataFrame(X_scaled, columns=X.columns)\n",
        "X_scaled.head() #note that MinMaxScaler reduce everything to between 0 and 1"
      ],
      "execution_count": 15,
      "outputs": [
        {
          "output_type": "execute_result",
          "data": {
            "text/html": [
              "<div>\n",
              "<style scoped>\n",
              "    .dataframe tbody tr th:only-of-type {\n",
              "        vertical-align: middle;\n",
              "    }\n",
              "\n",
              "    .dataframe tbody tr th {\n",
              "        vertical-align: top;\n",
              "    }\n",
              "\n",
              "    .dataframe thead th {\n",
              "        text-align: right;\n",
              "    }\n",
              "</style>\n",
              "<table border=\"1\" class=\"dataframe\">\n",
              "  <thead>\n",
              "    <tr style=\"text-align: right;\">\n",
              "      <th></th>\n",
              "      <th>city</th>\n",
              "      <th>area</th>\n",
              "      <th>rooms</th>\n",
              "      <th>bathroom</th>\n",
              "      <th>parking spaces</th>\n",
              "      <th>floor</th>\n",
              "      <th>animal</th>\n",
              "      <th>furniture</th>\n",
              "    </tr>\n",
              "  </thead>\n",
              "  <tbody>\n",
              "    <tr>\n",
              "      <th>0</th>\n",
              "      <td>1.0</td>\n",
              "      <td>0.009351</td>\n",
              "      <td>0.222222</td>\n",
              "      <td>0.222222</td>\n",
              "      <td>0.333333</td>\n",
              "      <td>0.000000</td>\n",
              "      <td>0.0</td>\n",
              "      <td>0.0</td>\n",
              "    </tr>\n",
              "    <tr>\n",
              "      <th>1</th>\n",
              "      <td>0.0</td>\n",
              "      <td>0.002195</td>\n",
              "      <td>0.111111</td>\n",
              "      <td>0.000000</td>\n",
              "      <td>0.083333</td>\n",
              "      <td>0.101010</td>\n",
              "      <td>0.0</td>\n",
              "      <td>1.0</td>\n",
              "    </tr>\n",
              "    <tr>\n",
              "      <th>2</th>\n",
              "      <td>1.0</td>\n",
              "      <td>0.017604</td>\n",
              "      <td>0.444444</td>\n",
              "      <td>0.444444</td>\n",
              "      <td>0.333333</td>\n",
              "      <td>0.030303</td>\n",
              "      <td>0.0</td>\n",
              "      <td>0.0</td>\n",
              "    </tr>\n",
              "    <tr>\n",
              "      <th>3</th>\n",
              "      <td>1.0</td>\n",
              "      <td>0.002561</td>\n",
              "      <td>0.111111</td>\n",
              "      <td>0.111111</td>\n",
              "      <td>0.083333</td>\n",
              "      <td>0.121212</td>\n",
              "      <td>0.0</td>\n",
              "      <td>1.0</td>\n",
              "    </tr>\n",
              "    <tr>\n",
              "      <th>4</th>\n",
              "      <td>1.0</td>\n",
              "      <td>0.000366</td>\n",
              "      <td>0.000000</td>\n",
              "      <td>0.000000</td>\n",
              "      <td>0.000000</td>\n",
              "      <td>0.000000</td>\n",
              "      <td>1.0</td>\n",
              "      <td>1.0</td>\n",
              "    </tr>\n",
              "  </tbody>\n",
              "</table>\n",
              "</div>"
            ],
            "text/plain": [
              "   city      area     rooms  ...     floor  animal  furniture\n",
              "0   1.0  0.009351  0.222222  ...  0.000000     0.0        0.0\n",
              "1   0.0  0.002195  0.111111  ...  0.101010     0.0        1.0\n",
              "2   1.0  0.017604  0.444444  ...  0.030303     0.0        0.0\n",
              "3   1.0  0.002561  0.111111  ...  0.121212     0.0        1.0\n",
              "4   1.0  0.000366  0.000000  ...  0.000000     1.0        1.0\n",
              "\n",
              "[5 rows x 8 columns]"
            ]
          },
          "metadata": {},
          "execution_count": 15
        }
      ]
    },
    {
      "cell_type": "markdown",
      "metadata": {
        "id": "OGvS3ZSGZuCF"
      },
      "source": [
        "#Principal Component Analysis"
      ]
    },
    {
      "cell_type": "code",
      "metadata": {
        "id": "nqqtngt8ZGGR"
      },
      "source": [
        "model= PCA(random_state=959).fit(X_scaled)"
      ],
      "execution_count": 16,
      "outputs": []
    },
    {
      "cell_type": "code",
      "metadata": {
        "colab": {
          "base_uri": "https://localhost:8080/",
          "height": 296
        },
        "id": "78zKAvQrZGLO",
        "outputId": "dcec096a-bb7c-43ac-ee4a-f4e4ed2bcd3e"
      },
      "source": [
        "plt.plot(model.explained_variance_ratio_, linewidth=3)\n",
        "plt.xlabel('Component')\n",
        "plt.ylabel('Explained variance')\n",
        "#this graphs looks into the marginal variance that each varible brings."
      ],
      "execution_count": 17,
      "outputs": [
        {
          "output_type": "execute_result",
          "data": {
            "text/plain": [
              "Text(0, 0.5, 'Explained variance')"
            ]
          },
          "metadata": {},
          "execution_count": 17
        },
        {
          "output_type": "display_data",
          "data": {
            "image/png": "[encoded data removed]",
            "text/plain": [
              "<Figure size 432x288 with 1 Axes>"
            ]
          },
          "metadata": {
            "needs_background": "light"
          }
        }
      ]
    },
    {
      "cell_type": "code",
      "metadata": {
        "colab": {
          "base_uri": "https://localhost:8080/",
          "height": 296
        },
        "id": "UAzt0PZBbijO",
        "outputId": "0b87acea-6281-48e2-bd22-8cfdbe518828"
      },
      "source": [
        "#cummulative variance\n",
        "plt.plot(np.cumsum(model.explained_variance_ratio_), linewidth=3)\n",
        "plt.xlabel('Component')\n",
        "plt.ylabel('Explained variance cummulative')"
      ],
      "execution_count": 18,
      "outputs": [
        {
          "output_type": "execute_result",
          "data": {
            "text/plain": [
              "Text(0, 0.5, 'Explained variance cummulative')"
            ]
          },
          "metadata": {},
          "execution_count": 18
        },
        {
          "output_type": "display_data",
          "data": {
            "image/png": "[encoded data removed]",
            "text/plain": [
              "<Figure size 432x288 with 1 Axes>"
            ]
          },
          "metadata": {
            "needs_background": "light"
          }
        }
      ]
    },
    {
      "cell_type": "code",
      "metadata": {
        "colab": {
          "base_uri": "https://localhost:8080/"
        },
        "id": "OKOv2V-ObimX",
        "outputId": "6a4c6244-1ea0-45f9-9e2d-ad11dc39714d"
      },
      "source": [
        "#PCA\n",
        "pca_model= PCA(n_components=4,  random_state=59).fit(X_scaled)\n",
        "pca_model.components_\n"
      ],
      "execution_count": 19,
      "outputs": [
        {
          "output_type": "execute_result",
          "data": {
            "text/plain": [
              "array([[ 0.18141785, -0.00189399, -0.05284029, -0.02601622, -0.02843018,\n",
              "         0.02050117,  0.51375045, -0.83573138],\n",
              "       [-0.08769269, -0.00233231, -0.05560262, -0.07943251, -0.06419491,\n",
              "        -0.00852144,  0.84768857,  0.5100332 ],\n",
              "       [-0.97633077, -0.00129424, -0.03821757, -0.0629053 , -0.0285704 ,\n",
              "        -0.00666563,  0.00931613, -0.20102586],\n",
              "       [-0.07588276,  0.02061973,  0.48755505,  0.68530552,  0.51873277,\n",
              "        -0.01177788,  0.13116733, -0.00598159]])"
            ]
          },
          "metadata": {},
          "execution_count": 19
        }
      ]
    },
    {
      "cell_type": "code",
      "metadata": {
        "id": "E1IRik0odmbB"
      },
      "source": [
        "model_interpretation=pd.DataFrame(pca_model.components_, columns=X_scaled.columns)"
      ],
      "execution_count": 20,
      "outputs": []
    },
    {
      "cell_type": "code",
      "metadata": {
        "colab": {
          "base_uri": "https://localhost:8080/",
          "height": 175
        },
        "id": "s3W5ToAAdmhJ",
        "outputId": "addae0d1-c09e-4705-b8cf-a8e091fd97a4"
      },
      "source": [
        "model_interpretation"
      ],
      "execution_count": 21,
      "outputs": [
        {
          "output_type": "execute_result",
          "data": {
            "text/html": [
              "<div>\n",
              "<style scoped>\n",
              "    .dataframe tbody tr th:only-of-type {\n",
              "        vertical-align: middle;\n",
              "    }\n",
              "\n",
              "    .dataframe tbody tr th {\n",
              "        vertical-align: top;\n",
              "    }\n",
              "\n",
              "    .dataframe thead th {\n",
              "        text-align: right;\n",
              "    }\n",
              "</style>\n",
              "<table border=\"1\" class=\"dataframe\">\n",
              "  <thead>\n",
              "    <tr style=\"text-align: right;\">\n",
              "      <th></th>\n",
              "      <th>city</th>\n",
              "      <th>area</th>\n",
              "      <th>rooms</th>\n",
              "      <th>bathroom</th>\n",
              "      <th>parking spaces</th>\n",
              "      <th>floor</th>\n",
              "      <th>animal</th>\n",
              "      <th>furniture</th>\n",
              "    </tr>\n",
              "  </thead>\n",
              "  <tbody>\n",
              "    <tr>\n",
              "      <th>0</th>\n",
              "      <td>0.181418</td>\n",
              "      <td>-0.001894</td>\n",
              "      <td>-0.052840</td>\n",
              "      <td>-0.026016</td>\n",
              "      <td>-0.028430</td>\n",
              "      <td>0.020501</td>\n",
              "      <td>0.513750</td>\n",
              "      <td>-0.835731</td>\n",
              "    </tr>\n",
              "    <tr>\n",
              "      <th>1</th>\n",
              "      <td>-0.087693</td>\n",
              "      <td>-0.002332</td>\n",
              "      <td>-0.055603</td>\n",
              "      <td>-0.079433</td>\n",
              "      <td>-0.064195</td>\n",
              "      <td>-0.008521</td>\n",
              "      <td>0.847689</td>\n",
              "      <td>0.510033</td>\n",
              "    </tr>\n",
              "    <tr>\n",
              "      <th>2</th>\n",
              "      <td>-0.976331</td>\n",
              "      <td>-0.001294</td>\n",
              "      <td>-0.038218</td>\n",
              "      <td>-0.062905</td>\n",
              "      <td>-0.028570</td>\n",
              "      <td>-0.006666</td>\n",
              "      <td>0.009316</td>\n",
              "      <td>-0.201026</td>\n",
              "    </tr>\n",
              "    <tr>\n",
              "      <th>3</th>\n",
              "      <td>-0.075883</td>\n",
              "      <td>0.020620</td>\n",
              "      <td>0.487555</td>\n",
              "      <td>0.685306</td>\n",
              "      <td>0.518733</td>\n",
              "      <td>-0.011778</td>\n",
              "      <td>0.131167</td>\n",
              "      <td>-0.005982</td>\n",
              "    </tr>\n",
              "  </tbody>\n",
              "</table>\n",
              "</div>"
            ],
            "text/plain": [
              "       city      area     rooms  ...     floor    animal  furniture\n",
              "0  0.181418 -0.001894 -0.052840  ...  0.020501  0.513750  -0.835731\n",
              "1 -0.087693 -0.002332 -0.055603  ... -0.008521  0.847689   0.510033\n",
              "2 -0.976331 -0.001294 -0.038218  ... -0.006666  0.009316  -0.201026\n",
              "3 -0.075883  0.020620  0.487555  ... -0.011778  0.131167  -0.005982\n",
              "\n",
              "[4 rows x 8 columns]"
            ]
          },
          "metadata": {},
          "execution_count": 21
        }
      ]
    },
    {
      "cell_type": "code",
      "metadata": {
        "id": "AAaXUeYedmnd"
      },
      "source": [
        "#the model above has 4 components. In the first component, city is the only one with high value.\n",
        "#component zero has more of \"city living characteristics\"- high number of floors, low parking space,low bathroom etc"
      ],
      "execution_count": 22,
      "outputs": []
    },
    {
      "cell_type": "code",
      "metadata": {
        "colab": {
          "base_uri": "https://localhost:8080/"
        },
        "id": "jBoRtD0n5zlG",
        "outputId": "8b060920-e001-449d-a227-146d1e7908aa"
      },
      "source": [
        "#transforming component\n",
        "components= pca_model.transform(X_scaled)\n",
        "components"
      ],
      "execution_count": 23,
      "outputs": [
        {
          "output_type": "execute_result",
          "data": {
            "text/plain": [
              "array([[ 0.51221173, -0.60692178,  0.00138902,  0.13891056],\n",
              "       [-0.48409306,  0.02983851,  0.80139784, -0.1286716 ],\n",
              "       [ 0.49529367, -0.63720706, -0.0212954 ,  0.39935952],\n",
              "       ...,\n",
              "       [-0.47523025,  0.04110945,  0.80782396, -0.22644243],\n",
              "       [ 0.19786601,  0.77033256, -0.1785653 ,  0.10142872],\n",
              "       [ 0.53181399, -0.56737054,  0.02649712, -0.19786231]])"
            ]
          },
          "metadata": {},
          "execution_count": 23
        }
      ]
    },
    {
      "cell_type": "code",
      "metadata": {
        "colab": {
          "base_uri": "https://localhost:8080/",
          "height": 206
        },
        "id": "gahnNoO76C5C",
        "outputId": "8432abde-73fe-4642-a0fc-5cf7ad9f64fd"
      },
      "source": [
        "components= pd.DataFrame(components, columns=['city_xtristics', 'accepts_ani_furn','none_city_xter', 'exotic_houses'])\n",
        "#naming the columns based on some of the observed characteristics from the data\n",
        "#as a guide in naming the columns, we start by looking at the extremes-the columns with highest values.\n",
        "#for the second componnent, the characteristic of accepting animal and furniture are the highest.\n",
        "components.head()"
      ],
      "execution_count": 24,
      "outputs": [
        {
          "output_type": "execute_result",
          "data": {
            "text/html": [
              "<div>\n",
              "<style scoped>\n",
              "    .dataframe tbody tr th:only-of-type {\n",
              "        vertical-align: middle;\n",
              "    }\n",
              "\n",
              "    .dataframe tbody tr th {\n",
              "        vertical-align: top;\n",
              "    }\n",
              "\n",
              "    .dataframe thead th {\n",
              "        text-align: right;\n",
              "    }\n",
              "</style>\n",
              "<table border=\"1\" class=\"dataframe\">\n",
              "  <thead>\n",
              "    <tr style=\"text-align: right;\">\n",
              "      <th></th>\n",
              "      <th>city_xtristics</th>\n",
              "      <th>accepts_ani_furn</th>\n",
              "      <th>none_city_xter</th>\n",
              "      <th>exotic_houses</th>\n",
              "    </tr>\n",
              "  </thead>\n",
              "  <tbody>\n",
              "    <tr>\n",
              "      <th>0</th>\n",
              "      <td>0.512212</td>\n",
              "      <td>-0.606922</td>\n",
              "      <td>0.001389</td>\n",
              "      <td>0.138911</td>\n",
              "    </tr>\n",
              "    <tr>\n",
              "      <th>1</th>\n",
              "      <td>-0.484093</td>\n",
              "      <td>0.029839</td>\n",
              "      <td>0.801398</td>\n",
              "      <td>-0.128672</td>\n",
              "    </tr>\n",
              "    <tr>\n",
              "      <th>2</th>\n",
              "      <td>0.495294</td>\n",
              "      <td>-0.637207</td>\n",
              "      <td>-0.021295</td>\n",
              "      <td>0.399360</td>\n",
              "    </tr>\n",
              "    <tr>\n",
              "      <th>3</th>\n",
              "      <td>-0.305152</td>\n",
              "      <td>-0.066853</td>\n",
              "      <td>-0.182058</td>\n",
              "      <td>-0.128640</td>\n",
              "    </tr>\n",
              "    <tr>\n",
              "      <th>4</th>\n",
              "      <td>0.217248</td>\n",
              "      <td>0.802227</td>\n",
              "      <td>-0.158314</td>\n",
              "      <td>-0.169636</td>\n",
              "    </tr>\n",
              "  </tbody>\n",
              "</table>\n",
              "</div>"
            ],
            "text/plain": [
              "   city_xtristics  accepts_ani_furn  none_city_xter  exotic_houses\n",
              "0        0.512212         -0.606922        0.001389       0.138911\n",
              "1       -0.484093          0.029839        0.801398      -0.128672\n",
              "2        0.495294         -0.637207       -0.021295       0.399360\n",
              "3       -0.305152         -0.066853       -0.182058      -0.128640\n",
              "4        0.217248          0.802227       -0.158314      -0.169636"
            ]
          },
          "metadata": {},
          "execution_count": 24
        }
      ]
    },
    {
      "cell_type": "code",
      "metadata": {
        "colab": {
          "base_uri": "https://localhost:8080/",
          "height": 206
        },
        "id": "OX27B9V86DCZ",
        "outputId": "4601dd5e-eb85-475c-8171-01ddef57803e"
      },
      "source": [
        "#merging data\n",
        "final_dataset= pd.concat([data, components], axis=1)\n",
        "final_dataset.head()"
      ],
      "execution_count": 28,
      "outputs": [
        {
          "output_type": "execute_result",
          "data": {
            "text/html": [
              "<div>\n",
              "<style scoped>\n",
              "    .dataframe tbody tr th:only-of-type {\n",
              "        vertical-align: middle;\n",
              "    }\n",
              "\n",
              "    .dataframe tbody tr th {\n",
              "        vertical-align: top;\n",
              "    }\n",
              "\n",
              "    .dataframe thead th {\n",
              "        text-align: right;\n",
              "    }\n",
              "</style>\n",
              "<table border=\"1\" class=\"dataframe\">\n",
              "  <thead>\n",
              "    <tr style=\"text-align: right;\">\n",
              "      <th></th>\n",
              "      <th>city</th>\n",
              "      <th>area</th>\n",
              "      <th>rooms</th>\n",
              "      <th>bathroom</th>\n",
              "      <th>parking spaces</th>\n",
              "      <th>floor</th>\n",
              "      <th>animal</th>\n",
              "      <th>furniture</th>\n",
              "      <th>rent amount</th>\n",
              "      <th>city_xtristics</th>\n",
              "      <th>accepts_ani_furn</th>\n",
              "      <th>none_city_xter</th>\n",
              "      <th>exotic_houses</th>\n",
              "    </tr>\n",
              "  </thead>\n",
              "  <tbody>\n",
              "    <tr>\n",
              "      <th>0</th>\n",
              "      <td>1</td>\n",
              "      <td>240</td>\n",
              "      <td>3</td>\n",
              "      <td>3</td>\n",
              "      <td>4</td>\n",
              "      <td>0</td>\n",
              "      <td>0</td>\n",
              "      <td>0</td>\n",
              "      <td>8000</td>\n",
              "      <td>0.512212</td>\n",
              "      <td>-0.606922</td>\n",
              "      <td>0.001389</td>\n",
              "      <td>0.138911</td>\n",
              "    </tr>\n",
              "    <tr>\n",
              "      <th>1</th>\n",
              "      <td>0</td>\n",
              "      <td>64</td>\n",
              "      <td>2</td>\n",
              "      <td>1</td>\n",
              "      <td>1</td>\n",
              "      <td>10</td>\n",
              "      <td>0</td>\n",
              "      <td>1</td>\n",
              "      <td>820</td>\n",
              "      <td>-0.484093</td>\n",
              "      <td>0.029839</td>\n",
              "      <td>0.801398</td>\n",
              "      <td>-0.128672</td>\n",
              "    </tr>\n",
              "    <tr>\n",
              "      <th>2</th>\n",
              "      <td>1</td>\n",
              "      <td>443</td>\n",
              "      <td>5</td>\n",
              "      <td>5</td>\n",
              "      <td>4</td>\n",
              "      <td>3</td>\n",
              "      <td>0</td>\n",
              "      <td>0</td>\n",
              "      <td>7000</td>\n",
              "      <td>0.495294</td>\n",
              "      <td>-0.637207</td>\n",
              "      <td>-0.021295</td>\n",
              "      <td>0.399360</td>\n",
              "    </tr>\n",
              "    <tr>\n",
              "      <th>3</th>\n",
              "      <td>1</td>\n",
              "      <td>73</td>\n",
              "      <td>2</td>\n",
              "      <td>2</td>\n",
              "      <td>1</td>\n",
              "      <td>12</td>\n",
              "      <td>0</td>\n",
              "      <td>1</td>\n",
              "      <td>1250</td>\n",
              "      <td>-0.305152</td>\n",
              "      <td>-0.066853</td>\n",
              "      <td>-0.182058</td>\n",
              "      <td>-0.128640</td>\n",
              "    </tr>\n",
              "    <tr>\n",
              "      <th>4</th>\n",
              "      <td>1</td>\n",
              "      <td>19</td>\n",
              "      <td>1</td>\n",
              "      <td>1</td>\n",
              "      <td>0</td>\n",
              "      <td>0</td>\n",
              "      <td>1</td>\n",
              "      <td>1</td>\n",
              "      <td>1200</td>\n",
              "      <td>0.217248</td>\n",
              "      <td>0.802227</td>\n",
              "      <td>-0.158314</td>\n",
              "      <td>-0.169636</td>\n",
              "    </tr>\n",
              "  </tbody>\n",
              "</table>\n",
              "</div>"
            ],
            "text/plain": [
              "   city  area  rooms  ...  accepts_ani_furn  none_city_xter  exotic_houses\n",
              "0     1   240      3  ...         -0.606922        0.001389       0.138911\n",
              "1     0    64      2  ...          0.029839        0.801398      -0.128672\n",
              "2     1   443      5  ...         -0.637207       -0.021295       0.399360\n",
              "3     1    73      2  ...         -0.066853       -0.182058      -0.128640\n",
              "4     1    19      1  ...          0.802227       -0.158314      -0.169636\n",
              "\n",
              "[5 rows x 13 columns]"
            ]
          },
          "metadata": {},
          "execution_count": 28
        }
      ]
    },
    {
      "cell_type": "code",
      "metadata": {
        "id": "jSOYYkbi6DGC"
      },
      "source": [
        ""
      ],
      "execution_count": 24,
      "outputs": []
    },
    {
      "cell_type": "code",
      "metadata": {
        "id": "QpbHN3VR6DJx"
      },
      "source": [
        ""
      ],
      "execution_count": 24,
      "outputs": []
    }
  ]
}